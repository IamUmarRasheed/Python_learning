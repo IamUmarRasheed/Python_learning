{
 "cells": [
  {
   "cell_type": "code",
   "execution_count": 9,
   "metadata": {},
   "outputs": [
    {
     "name": "stdout",
     "output_type": "stream",
     "text": [
      "k umar\n",
      "f 2\n",
      "k haider\n",
      "f 1\n",
      "k umar\n",
      "f 2\n",
      "umar\n"
     ]
    }
   ],
   "source": [
    "# Program to find most frequent \n",
    "# element in a list\n",
    "\n",
    "def most_frequent(List):\n",
    "\tcounter = 0\n",
    "\tnum = List[0]\n",
    "\t\n",
    "\tfor i in List:\n",
    "\t\tprint('k',i)\n",
    "\t\t\n",
    "\t\tcurr_frequency = List.count(i)\n",
    "\t\tprint('f',curr_frequency)\n",
    "\t\tif(curr_frequency> counter):\n",
    "\t\t\tcounter = curr_frequency\n",
    "\t\t\tnum = i\n",
    "\n",
    "\treturn num\n",
    "\n",
    "List = ['umar','haider','umar']\n",
    "print(most_frequent(List))\n"
   ]
  },
  {
   "cell_type": "code",
   "execution_count": null,
   "metadata": {},
   "outputs": [],
   "source": []
  }
 ],
 "metadata": {
  "kernelspec": {
   "display_name": "python_Learn",
   "language": "python",
   "name": "python3"
  },
  "language_info": {
   "codemirror_mode": {
    "name": "ipython",
    "version": 3
   },
   "file_extension": ".py",
   "mimetype": "text/x-python",
   "name": "python",
   "nbconvert_exporter": "python",
   "pygments_lexer": "ipython3",
   "version": "3.12.0"
  }
 },
 "nbformat": 4,
 "nbformat_minor": 2
}
